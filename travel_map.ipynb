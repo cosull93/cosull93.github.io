{
 "cells": [
  {
   "cell_type": "markdown",
   "id": "f7ec13d5",
   "metadata": {},
   "source": [
    "---\n",
    "title: \"My Travel Map\"\n",
    "format: html\n",
    "execute: \n",
    "  echo: false\n",
    "---"
   ]
  },
  {
   "cell_type": "code",
   "execution_count": 2,
   "id": "b01bd39e",
   "metadata": {},
   "outputs": [],
   "source": [
    "import pandas as pd\n",
    "import plotly.express as px\n",
    "\n",
    "# City coordinates\n",
    "data = {\n",
    "    \"City\": [\n",
    "        \"Boston, MA, USA\", \"Chicago, IL, USA\", \"San Diego, CA, USA\",\n",
    "        \"Los Angeles, CA, USA\", \"San Francisco, CA, USA\", \"Austin, TX, USA\",\n",
    "        \"Denver, CO, USA\", \"London, England\", \"Dublin, Ireland\",\n",
    "        \"Paris, France\", \"Florence, Italy\", \"Rome, Italy\", \"Milan, Italy\",\n",
    "        \"Munich, Germany\", \"Zurich, Switzerland\", \"Phuket, Thailand\", \"Tokyo, Japan\"\n",
    "    ],\n",
    "    \"Latitude\": [\n",
    "        42.3601, 41.8781, 32.7157,\n",
    "        34.0522, 37.7749, 30.2672,\n",
    "        39.7392, 51.5072, 53.3331,\n",
    "        48.8566, 43.7699, 41.9028, 45.4642,\n",
    "        48.1351, 47.3769, 7.8804, 35.6762\n",
    "    ],\n",
    "    \"Longitude\": [\n",
    "        -71.0589, -87.6298, -117.1611,\n",
    "        -118.2437, -122.4194, -97.7431,\n",
    "        -104.9903, -0.1276, -6.2489,\n",
    "        2.3522, 11.2556, 12.4964, 9.1900,\n",
    "        11.5820, 8.5417, 98.3923, 139.6503\n",
    "    ]\n",
    "}\n",
    "\n",
    "df = pd.DataFrame(data)\n",
    "\n",
    "fig = px.scatter_geo(\n",
    "    df,\n",
    "    lat=\"Latitude\",\n",
    "    lon=\"Longitude\",\n",
    "    hover_name=\"City\",\n",
    "    projection=\"natural earth\",\n",
    "    title=\"Places I've Visited\"\n",
    ")\n",
    "fig.update_traces(marker=dict(size=10, color=\"#2E3942\", line=dict(width=1, color='DarkSlateGrey')))\n",
    "fig.write_html(\"travelmap.html\", include_plotlyjs=True, full_html=True)\n"
   ]
  }
 ],
 "metadata": {
  "kernelspec": {
   "display_name": "base",
   "language": "python",
   "name": "python3"
  },
  "language_info": {
   "codemirror_mode": {
    "name": "ipython",
    "version": 3
   },
   "file_extension": ".py",
   "mimetype": "text/x-python",
   "name": "python",
   "nbconvert_exporter": "python",
   "pygments_lexer": "ipython3",
   "version": "3.12.7"
  }
 },
 "nbformat": 4,
 "nbformat_minor": 5
}
